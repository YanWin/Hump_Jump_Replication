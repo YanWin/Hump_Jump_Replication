{
 "cells": [
  {
   "cell_type": "markdown",
   "metadata": {},
   "source": [
    "# Imports"
   ]
  },
  {
   "cell_type": "code",
   "execution_count": 1,
   "metadata": {
    "collapsed": false,
    "jupyter": {
     "outputs_hidden": false
    }
   },
   "outputs": [
    {
     "ename": "TypeError",
     "evalue": "Cannot create a consistent method resolution\norder (MRO) for bases object, GEModelClass, HANKStickyAnalyticsClass",
     "output_type": "error",
     "traceback": [
      "\u001B[1;31m---------------------------------------------------------------------------\u001B[0m",
      "\u001B[1;31mTypeError\u001B[0m                                 Traceback (most recent call last)",
      "\u001B[1;32m~\\AppData\\Local\\Temp/ipykernel_13420/3386145869.py\u001B[0m in \u001B[0;36m<module>\u001B[1;34m\u001B[0m\n\u001B[0;32m      5\u001B[0m \u001B[1;32mimport\u001B[0m \u001B[0mmatplotlib\u001B[0m\u001B[1;33m.\u001B[0m\u001B[0mpyplot\u001B[0m \u001B[1;32mas\u001B[0m \u001B[0mplt\u001B[0m\u001B[1;33m\u001B[0m\u001B[1;33m\u001B[0m\u001B[0m\n\u001B[0;32m      6\u001B[0m \u001B[1;33m\u001B[0m\u001B[0m\n\u001B[1;32m----> 7\u001B[1;33m \u001B[1;32mfrom\u001B[0m \u001B[0mHANKStickyModel\u001B[0m \u001B[1;32mimport\u001B[0m \u001B[0mHANKStickyModelClass\u001B[0m\u001B[1;33m\u001B[0m\u001B[1;33m\u001B[0m\u001B[0m\n\u001B[0m",
      "\u001B[1;32m~\\Meine Ablage\\Uni\\Master\\Master Thesis\\Thesis_Code\\Hump_Jump_Replication\\HANKStickyModel.py\u001B[0m in \u001B[0;36m<module>\u001B[1;34m\u001B[0m\n\u001B[0;32m     11\u001B[0m \u001B[1;33m\u001B[0m\u001B[0m\n\u001B[0;32m     12\u001B[0m \u001B[1;33m\u001B[0m\u001B[0m\n\u001B[1;32m---> 13\u001B[1;33m \u001B[1;32mclass\u001B[0m \u001B[0mHANKStickyModelClass\u001B[0m\u001B[1;33m(\u001B[0m\u001B[0mEconModelClass\u001B[0m\u001B[1;33m,\u001B[0m \u001B[0mGEModelClass\u001B[0m\u001B[1;33m,\u001B[0m \u001B[0mHANKStickyAnalyticsClass\u001B[0m\u001B[1;33m)\u001B[0m\u001B[1;33m:\u001B[0m\u001B[1;33m\u001B[0m\u001B[1;33m\u001B[0m\u001B[0m\n\u001B[0m\u001B[0;32m     14\u001B[0m     \u001B[1;32mdef\u001B[0m \u001B[0m__init__\u001B[0m\u001B[1;33m(\u001B[0m\u001B[0mself\u001B[0m\u001B[1;33m,\u001B[0m \u001B[0msavefolder\u001B[0m\u001B[1;33m=\u001B[0m\u001B[1;34m'saved'\u001B[0m\u001B[1;33m,\u001B[0m \u001B[1;33m*\u001B[0m\u001B[0margs\u001B[0m\u001B[1;33m,\u001B[0m \u001B[1;33m**\u001B[0m\u001B[0mkwargs\u001B[0m\u001B[1;33m)\u001B[0m\u001B[1;33m:\u001B[0m\u001B[1;33m\u001B[0m\u001B[1;33m\u001B[0m\u001B[0m\n\u001B[0;32m     15\u001B[0m         \u001B[0mEconModelClass\u001B[0m\u001B[1;33m.\u001B[0m\u001B[0m__init__\u001B[0m\u001B[1;33m(\u001B[0m\u001B[0mself\u001B[0m\u001B[1;33m,\u001B[0m \u001B[1;33m*\u001B[0m\u001B[0margs\u001B[0m\u001B[1;33m,\u001B[0m \u001B[1;33m**\u001B[0m\u001B[0mkwargs\u001B[0m\u001B[1;33m)\u001B[0m\u001B[1;33m\u001B[0m\u001B[1;33m\u001B[0m\u001B[0m\n",
      "\u001B[1;31mTypeError\u001B[0m: Cannot create a consistent method resolution\norder (MRO) for bases object, GEModelClass, HANKStickyAnalyticsClass"
     ]
    }
   ],
   "source": [
    "%load_ext autoreload\n",
    "%autoreload 2\n",
    "\n",
    "import numpy as np\n",
    "import matplotlib.pyplot as plt\n",
    "\n",
    "from HANKStickyModel import HANKStickyModelClass"
   ]
  },
  {
   "cell_type": "markdown",
   "metadata": {},
   "source": [
    "# Solve the model"
   ]
  },
  {
   "cell_type": "code",
   "execution_count": 5,
   "outputs": [],
   "source": [
    "def solution_routine(model, do_print=False):\n",
    "    \"\"\" solve model \"\"\"\n",
    "    # init model\n",
    "    print('\\r'+f' -------- Model: {model.name} ---------')\n",
    "    # solve model\n",
    "    print(\"\\r\"+'Find steady state  ',end=\"\")\n",
    "    model.find_ss(do_print=do_print)\n",
    "    print(\"\\r\"+'Compute Jacobians  ',end=\"\")\n",
    "    model.compute_jacs(do_print=do_print)\n",
    "    print(\"\\r\"+'Find transition path',end=\"\")\n",
    "    model.find_transition_path(do_print=do_print, do_print_unknowns=False)\n",
    "    print(\"\\r\"+'Find IRFs           ',end=\"\")\n",
    "    model.find_IRFs(do_print=do_print)\n",
    "    print(\"\\r\"+'Done                ',end=\"\")\n",
    "    # return model\n"
   ],
   "metadata": {
    "collapsed": false
   }
  },
  {
   "cell_type": "code",
   "execution_count": 3,
   "metadata": {
    "collapsed": false,
    "jupyter": {
     "outputs_hidden": false
    }
   },
   "outputs": [],
   "source": [
    "model = HANKStickyModelClass(name='baseline')"
   ]
  },
  {
   "cell_type": "code",
   "execution_count": 4,
   "metadata": {
    "collapsed": false,
    "jupyter": {
     "outputs_hidden": false
    }
   },
   "outputs": [],
   "source": [
    "par = model.par\n",
    "ss = model.ss\n",
    "path = model.path\n",
    "sim = model.sim"
   ]
  },
  {
   "cell_type": "code",
   "execution_count": 6,
   "metadata": {},
   "outputs": [
    {
     "name": "stdout",
     "output_type": "stream",
     "text": [
      " -------- Model: baseline ---------\n",
      "Find IRFs           "
     ]
    }
   ],
   "source": [
    "solution_routine(model)"
   ]
  },
  {
   "cell_type": "markdown",
   "source": [
    "# Testing"
   ],
   "metadata": {
    "collapsed": false
   }
  },
  {
   "cell_type": "code",
   "execution_count": 72,
   "outputs": [
    {
     "data": {
      "text/plain": "[HANKStickyModel.HANKStickyModelClass,\n EconModel.EconModel.EconModelClass,\n GEModelTools.GEModelClass.GEModelClass,\n AnalyticsClass.HANKStickyAnalyticsClass,\n object]"
     },
     "execution_count": 72,
     "metadata": {},
     "output_type": "execute_result"
    }
   ],
   "source": [
    "test = HANKStickyModelClass(name=\"test\")\n",
    "HANKStickyModelClass.mro()"
   ],
   "metadata": {
    "collapsed": false
   }
  },
  {
   "cell_type": "code",
   "execution_count": 34,
   "outputs": [
    {
     "name": "stdout",
     "output_type": "stream",
     "text": [
      " -------- Model: test ---------\n",
      "Find IRFs           "
     ]
    }
   ],
   "source": [
    "solution_routine(test)"
   ],
   "metadata": {
    "collapsed": false
   }
  },
  {
   "cell_type": "code",
   "execution_count": 41,
   "outputs": [
    {
     "name": "stdout",
     "output_type": "stream",
     "text": [
      "mean MPC out of liquid assets: 0.354 (annual terms)\n",
      "test\n"
     ]
    }
   ],
   "source": [
    "test.calc_MPC(annual=False)"
   ],
   "metadata": {
    "collapsed": false
   }
  },
  {
   "cell_type": "code",
   "execution_count": 45,
   "outputs": [
    {
     "data": {
      "text/plain": "array([[3.36080077e-01, 3.70927483e-02, 3.28745618e-02, ...,\n        1.00590647e-07, 9.55979740e-08, 9.08517706e-08],\n       [3.62352866e-02, 3.30162297e-01, 3.32208968e-02, ...,\n        1.03109918e-07, 9.79931904e-08, 9.31293973e-08],\n       [3.25785053e-02, 3.23145780e-02, 3.26964421e-01, ...,\n        1.05832024e-07, 1.00578133e-07, 9.55870296e-08],\n       ...,\n       [3.36664146e-07, 3.43117255e-07, 3.50250957e-07, ...,\n        3.12640716e-01, 1.76469970e-02, 1.62873352e-02],\n       [3.21561986e-07, 3.27725574e-07, 3.34539220e-07, ...,\n        1.67829032e-02, 3.12640716e-01, 1.76469970e-02],\n       [3.07137309e-07, 3.13024367e-07, 3.19532319e-07, ...,\n        1.58981341e-02, 1.67829032e-02, 3.12640716e-01]])"
     },
     "execution_count": 45,
     "metadata": {},
     "output_type": "execute_result"
    }
   ],
   "source": [
    "test.jac_hh['C_hh', 'Z']"
   ],
   "metadata": {
    "collapsed": false
   }
  },
  {
   "cell_type": "code",
   "execution_count": 47,
   "outputs": [
    {
     "data": {
      "text/plain": "0.4347497734700018"
     },
     "execution_count": 47,
     "metadata": {},
     "output_type": "execute_result"
    }
   ],
   "source": [
    "sum([test.jac_hh['C_hh', 'Z'][t, 0] for t in range(4)])"
   ],
   "metadata": {
    "collapsed": false
   }
  },
  {
   "cell_type": "code",
   "execution_count": 46,
   "outputs": [
    {
     "data": {
      "text/plain": "6"
     },
     "execution_count": 46,
     "metadata": {},
     "output_type": "execute_result"
    }
   ],
   "source": [
    "sum([t for t in range(4)])"
   ],
   "metadata": {
    "collapsed": false
   }
  },
  {
   "cell_type": "code",
   "execution_count": 44,
   "outputs": [
    {
     "data": {
      "text/plain": "1.627049966149837"
     },
     "execution_count": 44,
     "metadata": {},
     "output_type": "execute_result"
    }
   ],
   "source": [
    "ss_y = ss.Z + (1+ss.rl)*ss.L_hh #+ ss.ra*ss.A_hh\n",
    "frac_z = ss.Z/ss_y\n",
    "frac_l = ss.L_hh/ss_y\n",
    "frac_z * test.jac_hh['C_hh', 'Z'][0,0] + frac_z * test.jac_hh['C_hh', 'Z'][0,0]"
   ],
   "metadata": {
    "collapsed": false
   }
  },
  {
   "cell_type": "code",
   "execution_count": 48,
   "outputs": [
    {
     "name": "stdout",
     "output_type": "stream",
     "text": [
      "mean MPC: 0.354 [annual: 0.826]\n"
     ]
    }
   ],
   "source": [
    "# for liquid assets\n",
    "ss = test.ss\n",
    "\n",
    "MPC = np.zeros(ss.D.shape)\n",
    "dc = (ss.c[:, :, 1:, :] - ss.c[:, :, :-1, :])\n",
    "l_grid_full = np.repeat(par.l_grid, par.Na).reshape(1,1,par.Nl,par.Na)\n",
    "dl = (1 + ss.rl) * l_grid_full[:, :, 1:, :] - (1 + ss.rl) * l_grid_full[:, :, :-1, :]\n",
    "MPC[:, :, :-1, :] = dc / dl\n",
    "MPC[:, :, -1, :] = MPC[:, :, -2, :]  # assuming constant MPC at end\n",
    "mean_MPC = np.sum(MPC * ss.D)\n",
    "mean_MPC_ann = 1 - (1 - mean_MPC) ** 4\n",
    "print(f'mean MPC: {mean_MPC:.3f} [annual: {mean_MPC_ann:.3f}]')"
   ],
   "metadata": {
    "collapsed": false
   }
  },
  {
   "cell_type": "code",
   "execution_count": 50,
   "outputs": [
    {
     "data": {
      "text/plain": "0.964068794694323"
     },
     "execution_count": 50,
     "metadata": {},
     "output_type": "execute_result"
    }
   ],
   "source": [
    "(1/(1+ss.r))**3"
   ],
   "metadata": {
    "collapsed": false
   }
  },
  {
   "cell_type": "code",
   "execution_count": 55,
   "outputs": [],
   "source": [
    "test.path.eg[0,0] = 0.1"
   ],
   "metadata": {
    "collapsed": false
   }
  },
  {
   "cell_type": "code",
   "execution_count": 59,
   "outputs": [
    {
     "data": {
      "text/plain": "True"
     },
     "execution_count": 59,
     "metadata": {},
     "output_type": "execute_result"
    }
   ],
   "source": [
    "test.jac_hh['C_hh', 'Z'].any()"
   ],
   "metadata": {
    "collapsed": false
   }
  },
  {
   "cell_type": "code",
   "execution_count": 69,
   "outputs": [
    {
     "data": {
      "text/plain": "0.053772812335095566"
     },
     "execution_count": 69,
     "metadata": {},
     "output_type": "execute_result"
    }
   ],
   "source": [
    "np.max(abs(test.jac[('C_hh', 'eg')] - test2.jac[('C_hh', 'eg')]))"
   ],
   "metadata": {
    "collapsed": false
   }
  },
  {
   "cell_type": "code",
   "execution_count": 62,
   "outputs": [
    {
     "data": {
      "text/plain": "array([[0., 0., 0., ..., 0., 0., 0.],\n       [0., 0., 0., ..., 0., 0., 0.],\n       [0., 0., 0., ..., 0., 0., 0.],\n       ...,\n       [0., 0., 0., ..., 0., 0., 0.],\n       [0., 0., 0., ..., 0., 0., 0.],\n       [0., 0., 0., ..., 0., 0., 0.]])"
     },
     "execution_count": 62,
     "metadata": {},
     "output_type": "execute_result"
    }
   ],
   "source": [
    "test2 = HANKStickyModelClass(name=\"test\")\n",
    "test2.jac_hh['C_hh', 'Z']"
   ],
   "metadata": {
    "collapsed": false
   }
  },
  {
   "cell_type": "markdown",
   "metadata": {},
   "source": [
    "# Plotting"
   ]
  },
  {
   "cell_type": "code",
   "execution_count": 7,
   "metadata": {
    "collapsed": false,
    "jupyter": {
     "outputs_hidden": false
    }
   },
   "outputs": [],
   "source": [
    "# paths = ['G','Y','C_hh']\n",
    "# lvl_value = ['eg', 'em', 'i', 'Pi', 'Pi_w','clearing_Y']\n",
    "# abs_diff = ['r', 'ra', 'rl', 'i']\n",
    "# facs = {'r':100,'ra':100,'rl':100}\n",
    "# model.show_IRFs(paths,lvl_value=lvl_value,abs_diff=abs_diff,facs=facs,ncols=3,T_max=par.T,do_linear=True,do_shocks=True)"
   ]
  },
  {
   "cell_type": "markdown",
   "metadata": {},
   "source": [
    "# Misc"
   ]
  },
  {
   "cell_type": "code",
   "execution_count": 8,
   "metadata": {},
   "outputs": [],
   "source": [
    "# model.print_unpack_varlist()"
   ]
  },
  {
   "cell_type": "code",
   "execution_count": 9,
   "outputs": [],
   "source": [
    "# model.check_non_lin(0)"
   ],
   "metadata": {
    "collapsed": false
   }
  },
  {
   "cell_type": "code",
   "execution_count": 10,
   "outputs": [],
   "source": [
    "# print(np.max(path.A - path.A_hh))"
   ],
   "metadata": {
    "collapsed": false
   }
  }
 ],
 "metadata": {
  "kernelspec": {
   "display_name": "Python 3 (ipykernel)",
   "language": "python",
   "name": "python3"
  },
  "language_info": {
   "codemirror_mode": {
    "name": "ipython",
    "version": 3
   },
   "file_extension": ".py",
   "mimetype": "text/x-python",
   "name": "python",
   "nbconvert_exporter": "python",
   "pygments_lexer": "ipython3",
   "version": "3.9.10"
  }
 },
 "nbformat": 4,
 "nbformat_minor": 4
}
