{
 "cells": [
  {
   "cell_type": "markdown",
   "metadata": {
    "id": "-phGnGEbTsRk"
   },
   "source": [
    "# Imports"
   ]
  },
  {
   "cell_type": "code",
   "execution_count": 6,
   "metadata": {
    "jupyter": {
     "outputs_hidden": false
    },
    "id": "sLScZaDPTsRk",
    "executionInfo": {
     "status": "error",
     "timestamp": 1668003428348,
     "user_tz": -60,
     "elapsed": 236,
     "user": {
      "displayName": "Yannik Winkelmann",
      "userId": "05887061666821358078"
     }
    },
    "outputId": "79c0e7f8-4904-402c-fddb-5173f85523d3",
    "colab": {
     "base_uri": "https://localhost:8080/",
     "height": 495
    }
   },
   "outputs": [
    {
     "name": "stdout",
     "output_type": "stream",
     "text": [
      "The autoreload extension is already loaded. To reload it, use:\n",
      "  %reload_ext autoreload\n"
     ]
    }
   ],
   "source": [
    "%load_ext autoreload\n",
    "%autoreload 2\n",
    "\n",
    "import numpy as np\n",
    "import matplotlib.pyplot as plt\n",
    "\n",
    "from HANKStickyModel import HANKStickyModelClass"
   ]
  },
  {
   "cell_type": "markdown",
   "metadata": {
    "id": "YxfHhxRbTsRk"
   },
   "source": [
    "# Solve the model"
   ]
  },
  {
   "cell_type": "code",
   "execution_count": null,
   "metadata": {
    "jupyter": {
     "outputs_hidden": false
    },
    "id": "P8UGnDiMTsR1"
   },
   "outputs": [],
   "source": [
    "model = HANKStickyModelClass(name='baseline')"
   ]
  },
  {
   "cell_type": "code",
   "execution_count": null,
   "metadata": {
    "jupyter": {
     "outputs_hidden": false
    },
    "id": "I8ZVRoIUTsR1"
   },
   "outputs": [],
   "source": [
    "par = model.par\n",
    "ss = model.ss\n",
    "path = model.path\n",
    "sim = model.sim"
   ]
  },
  {
   "cell_type": "code",
   "execution_count": null,
   "metadata": {
    "id": "7A6LUkvCTsR1"
   },
   "outputs": [],
   "source": [
    "model.find_ss(do_print=True)"
   ]
  },
  {
   "cell_type": "markdown",
   "metadata": {
    "id": "dyNakZT6TsR1"
   },
   "source": [
    "# Testing"
   ]
  },
  {
   "cell_type": "code",
   "execution_count": null,
   "metadata": {
    "jupyter": {
     "outputs_hidden": false
    },
    "id": "UPGEhIFOTsR1"
   },
   "outputs": [],
   "source": [
    "model.test_hh_path()"
   ]
  },
  {
   "cell_type": "code",
   "execution_count": null,
   "metadata": {
    "jupyter": {
     "outputs_hidden": false
    },
    "id": "NHkz8u8iTsR1"
   },
   "outputs": [],
   "source": [
    "model.test_path()"
   ]
  },
  {
   "cell_type": "markdown",
   "metadata": {
    "id": "MlSO1FueTsR1"
   },
   "source": [
    "# Find transition path"
   ]
  },
  {
   "cell_type": "code",
   "execution_count": null,
   "metadata": {
    "jupyter": {
     "outputs_hidden": false
    },
    "id": "rZ2du6KWTsR1"
   },
   "outputs": [],
   "source": [
    "model.compute_jacs(do_print=True)"
   ]
  },
  {
   "cell_type": "code",
   "execution_count": null,
   "outputs": [],
   "source": [
    "# model.test_jacs(s_list=[0,50])"
   ],
   "metadata": {
    "id": "LbEuWDY5TsSF"
   }
  },
  {
   "cell_type": "code",
   "execution_count": null,
   "metadata": {
    "jupyter": {
     "outputs_hidden": false
    },
    "id": "4cpxYzE6TsSF"
   },
   "outputs": [],
   "source": [
    "model.find_transition_path(do_print=True, do_print_unknowns=True)"
   ]
  },
  {
   "cell_type": "code",
   "execution_count": null,
   "metadata": {
    "jupyter": {
     "outputs_hidden": false
    },
    "id": "WayRMY2LTsSF"
   },
   "outputs": [],
   "source": [
    "model.find_IRFs(do_print=True)"
   ]
  },
  {
   "cell_type": "code",
   "execution_count": null,
   "metadata": {
    "jupyter": {
     "outputs_hidden": false
    },
    "id": "vRKH2gk0TsSF"
   },
   "outputs": [],
   "source": [
    "paths = ['G','Y','C_hh','K','I',\n",
    "         'N','w','tau','Pi','Pi_w','i','s','s_w','Z',\n",
    "         'L_hh','A_hh',\n",
    "         'rk','r','ra','rl',\n",
    "         'q','B',\n",
    "         'p_eq','Div','p_int','Div_int','p_k','Div_k','clearing_A', 'clearing_L', 'clearing_Y', 'clearing_fund_start', 'clearing_fund_end']\n",
    "lvl_value = ['eg', 'em', 'i', 'Pi', 'Pi_w','clearing_Y','clearing_A', 'clearing_L', 'clearing_fund_start', 'clearing_fund_end']\n",
    "abs_diff = ['r', 'ra', 'rl', 'i']\n",
    "facs = {'r':100,'ra':100,'rl':100}"
   ]
  },
  {
   "cell_type": "code",
   "execution_count": null,
   "metadata": {
    "jupyter": {
     "outputs_hidden": false
    },
    "id": "x6nW9waETsSF"
   },
   "outputs": [],
   "source": [
    "model.show_IRFs(paths,lvl_value=lvl_value,abs_diff=abs_diff,facs=facs,ncols=3,T_max=par.T,do_linear=True,do_shocks=True)"
   ]
  },
  {
   "cell_type": "markdown",
   "metadata": {
    "id": "MVaJNtudTsSF"
   },
   "source": [
    "# Misc"
   ]
  },
  {
   "cell_type": "code",
   "execution_count": null,
   "metadata": {
    "id": "wUrmBcS3TsSF"
   },
   "outputs": [],
   "source": [
    "model.print_unpack_varlist()"
   ]
  },
  {
   "cell_type": "code",
   "execution_count": null,
   "metadata": {
    "id": "_9kZgLcpTsSF"
   },
   "outputs": [],
   "source": [
    "np.allclose(path.ra[0,1:]-path.r[0,:-1],0.0)"
   ]
  },
  {
   "cell_type": "code",
   "execution_count": null,
   "metadata": {
    "id": "b5fHsx3MTsSF"
   },
   "outputs": [],
   "source": [
    "(1 - model.par.delta_K) * path.K[0,-1] + path.I[0,-1] - ss.K"
   ]
  },
  {
   "cell_type": "code",
   "execution_count": null,
   "outputs": [],
   "source": [
    "path.ra[0,0] - ss.r"
   ],
   "metadata": {
    "id": "ON6r9YdDTsSF"
   }
  },
  {
   "cell_type": "code",
   "execution_count": null,
   "outputs": [],
   "source": [],
   "metadata": {
    "id": "mQBoeg5tTsSF"
   }
  }
 ],
 "metadata": {
  "kernelspec": {
   "display_name": "Python 3 (ipykernel)",
   "language": "python",
   "name": "python3"
  },
  "language_info": {
   "codemirror_mode": {
    "name": "ipython",
    "version": 3
   },
   "file_extension": ".py",
   "mimetype": "text/x-python",
   "name": "python",
   "nbconvert_exporter": "python",
   "pygments_lexer": "ipython3",
   "version": "3.9.10"
  },
  "colab": {
   "provenance": [],
   "collapsed_sections": []
  }
 },
 "nbformat": 4,
 "nbformat_minor": 0
}
