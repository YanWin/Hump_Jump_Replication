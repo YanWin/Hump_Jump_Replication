{
 "cells": [
  {
   "cell_type": "code",
   "execution_count": 1,
   "outputs": [],
   "source": [
    "# imports\n",
    "\n",
    "%load_ext autoreload\n",
    "%autoreload 2\n",
    "\n",
    "import time\n",
    "import numpy as np\n",
    "import matplotlib.pyplot as plt\n",
    "from copy import deepcopy\n",
    "import pandas as pd\n",
    "from consav.misc import elapsed\n",
    "\n",
    "from HANKStickyModel import HANKStickyModelClass"
   ],
   "metadata": {
    "collapsed": false
   }
  },
  {
   "cell_type": "markdown",
   "source": [
    "# General equilirbium decomposition for fiscal policy\n",
    "Try out code for the general equilibrium decomposition of fiscal policy."
   ],
   "metadata": {
    "collapsed": false
   }
  },
  {
   "cell_type": "code",
   "execution_count": 2,
   "outputs": [
    {
     "name": "stdout",
     "output_type": "stream",
     "text": [
      "Done                           "
     ]
    }
   ],
   "source": [
    "# solve example models\n",
    "\n",
    "updated_par = {'phi_G': 0.5,  # mixed financing of fiscal policy shock\n",
    "               'jump_eg': 0.01,  # 1% government spending shock\n",
    "               'rho_eg': 0.9,\n",
    "               'jump_em': 0.0,\n",
    "               'taylor': 'linear'}\n",
    "model = HANKStickyModelClass(name='baseline', par={**updated_par, **{'inattention': 0.0}})\n",
    "print(\"\\r\" + 'Find steady state  ', end=\"\")\n",
    "model.find_ss(do_print=False)\n",
    "# model without sticky information\n",
    "print(\"\\r\" + 'Compute Jacobians (no sticky) ', end=\"\")\n",
    "model.compute_jacs(do_print=False)\n",
    "print(\"\\r\"+'Find IRFs (no sticky)          ',end=\"\")\n",
    "model.find_IRFs(do_print=False)\n",
    "\n",
    "# model with sitcky information\n",
    "# model_sticky = model.copy()  # steady state unaffected by sticky information\n",
    "# model_sticky.par.inattention = 0.935\n",
    "# print(\"\\r\" + 'Compute Jacobians (sticky)    ', end=\"\")\n",
    "# model_sticky.compute_jacs(do_print=False)\n",
    "# print(\"\\r\"+'Find transition path (sticky)    ',end=\"\")\n",
    "# model_sticky.find_transition_path(do_print=False, do_print_unknowns=False)\n",
    "# print(\"\\r\"+'Find IRFs (sticky)               ',end=\"\")\n",
    "# model_sticky.find_IRFs(do_print=False)\n",
    "print(\"\\r\" + 'Done                     ', end=\"\")"
   ],
   "metadata": {
    "collapsed": false
   }
  },
  {
   "cell_type": "code",
   "execution_count": 3,
   "outputs": [],
   "source": [
    "ss = model.ss\n",
    "par = model.par"
   ],
   "metadata": {
    "collapsed": false
   }
  },
  {
   "cell_type": "code",
   "execution_count": 4,
   "outputs": [
    {
     "name": "stdout",
     "output_type": "stream",
     "text": [
      "('C_hh', 'r'), only zeros: False\n",
      "('C_hh', 'w'), only zeros: False\n",
      "('C_hh', 'Y'), only zeros: False\n",
      "('C_hh', 'Ip'), only zeros: False\n",
      "('C_hh', 'Q'), only zeros: True\n",
      "('C_hh', 'eg'), only zeros: False\n",
      "('C_hh', 'em'), only zeros: True\n",
      "('C_hh', 'ez'), only zeros: False\n"
     ]
    }
   ],
   "source": [
    "for k in model.jac.keys():\n",
    "    if 'C_hh' == k[0]:\n",
    "        print(f\"{k}, only zeros: {np.isclose(model.jac[k], 0.0).all()}\")\n"
   ],
   "metadata": {
    "collapsed": false
   }
  },
  {
   "cell_type": "code",
   "execution_count": 5,
   "outputs": [],
   "source": [
    "dG = np.zeros_like(model.IRF['G'])\n",
    "for k in model.jac.keys():\n",
    "    if 'G' in k[0]:\n",
    "        dG += model.jac[k] @ model.IRF[k[1]]\n",
    "assert np.isclose(dG - model.IRF['G'], 0.0).all()"
   ],
   "metadata": {
    "collapsed": false
   }
  },
  {
   "cell_type": "markdown",
   "source": [
    "# Simple decomposition based on market clearing condition"
   ],
   "metadata": {
    "collapsed": false
   }
  },
  {
   "cell_type": "markdown",
   "source": [
    "The Jacobian for Y as output are all zero.\n",
    "On the other hand, the IRF for dY is equal to the values that jac[('Y', 'eg')] should have IF eg is the only shock that has realizations different from zero.\n",
    "\n",
    "In any case, the Jacobians with Y as input can be reconstructed using the goods market clearing condition.\n",
    "$$Y_{t}=C_{t}+G_{t}+I_{t}+I_{t}S\\left(\\frac{I_{t}}{I_{t-1}}\\right)+\\zeta L_{t-1}$$"
   ],
   "metadata": {
    "collapsed": false
   }
  },
  {
   "cell_type": "code",
   "execution_count": 23,
   "outputs": [],
   "source": [
    "def decompose_Y(model, plot_dY=True, return_dY=False, set_jacs_zero=[]):\n",
    "    \"\"\" decompose output in based on market clearing elements\"\"\"\n",
    "\n",
    "    for j in set_jacs_zero:\n",
    "        assert j in model.jac.keys(), f'{j} not in jac.keys()'\n",
    "\n",
    "    if plot_dY:\n",
    "        fig, ax = plt.subplots()\n",
    "        ax.set_xlabel('t')\n",
    "        ax.set_ylabel('in % of ss.Y')\n",
    "        ax.set_title('Output response decomposition')\n",
    "\n",
    "    dY = np.zeros_like(model.IRF['Y'])\n",
    "    inputs_good_market_clearing = ['C_hh', 'G', 'I', 'psi', 'L_hh']\n",
    "    for varname in inputs_good_market_clearing:\n",
    "        d_input = np.zeros_like(model.IRF[varname])\n",
    "        for inputname in model.shocks + model.unknowns:\n",
    "            print(f\"{(varname, inputname)}\")\n",
    "            if (varname, inputname) in set_jacs_zero:\n",
    "                # print(f\"{(varname, inputname)} to zero\")\n",
    "                d_input[:] += 0.0\n",
    "            else:\n",
    "                d_input[:] += model.jac[(varname, inputname)] @ model.IRF[inputname]\n",
    "\n",
    "        # assert (d_input == model.IRF[varname]).all(), f\"{varname} max abs diff: {abs(d_input - model.IRF[varname]).max()}\"\n",
    "\n",
    "        if varname == 'L_hh':\n",
    "            d_input[:] = par.xi * np.hstack((0.0, d_input[:-1]))\n",
    "\n",
    "        dY += d_input\n",
    "        if plot_dY:\n",
    "            ax.plot(np.arange(par.T), d_input/ss.Y, label=varname, linestyle='--')\n",
    "\n",
    "    if plot_dY:\n",
    "        ax.plot(np.arange(par.T), dY/ss.Y, label='Y', linestyle='-')\n",
    "        ax.legend()\n",
    "\n",
    "    if len(set_jacs_zero) == 0:\n",
    "        # print(dY, model.IRF['Y'])\n",
    "        assert np.isclose(dY, model.IRF['Y']).all()\n",
    "\n",
    "    if return_dY:\n",
    "        return dY"
   ],
   "metadata": {
    "collapsed": false
   }
  },
  {
   "cell_type": "code",
   "execution_count": 7,
   "outputs": [
    {
     "name": "stdout",
     "output_type": "stream",
     "text": [
      "('Y', 'r'), only zeros: True\n",
      "('Y', 'w'), only zeros: True\n",
      "('Y', 'Y'), only zeros: False\n",
      "('Y', 'Ip'), only zeros: True\n",
      "('Y', 'Q'), only zeros: True\n",
      "('Y', 'eg'), only zeros: True\n",
      "('Y', 'em'), only zeros: True\n",
      "('Y', 'ez'), only zeros: True\n",
      "('C_hh', 'eg')\n",
      "('C_hh', 'em')\n",
      "('C_hh', 'ez')\n",
      "('C_hh', 'r')\n",
      "('C_hh', 'w')\n",
      "('C_hh', 'Y')\n",
      "('C_hh', 'Ip')\n",
      "('C_hh', 'Q')\n",
      "('G', 'eg')\n",
      "('G', 'em')\n",
      "('G', 'ez')\n",
      "('G', 'r')\n",
      "('G', 'w')\n",
      "('G', 'Y')\n",
      "('G', 'Ip')\n",
      "('G', 'Q')\n",
      "('I', 'eg')\n",
      "('I', 'em')\n",
      "('I', 'ez')\n",
      "('I', 'r')\n",
      "('I', 'w')\n",
      "('I', 'Y')\n",
      "('I', 'Ip')\n",
      "('I', 'Q')\n",
      "('psi', 'eg')\n",
      "('psi', 'em')\n",
      "('psi', 'ez')\n",
      "('psi', 'r')\n",
      "('psi', 'w')\n",
      "('psi', 'Y')\n",
      "('psi', 'Ip')\n",
      "('psi', 'Q')\n",
      "('L_hh', 'eg')\n",
      "('L_hh', 'em')\n",
      "('L_hh', 'ez')\n",
      "('L_hh', 'r')\n",
      "('L_hh', 'w')\n",
      "('L_hh', 'Y')\n",
      "('L_hh', 'Ip')\n",
      "('L_hh', 'Q')\n"
     ]
    },
    {
     "data": {
      "text/plain": "<Figure size 640x480 with 1 Axes>",
      "image/png": "[encoded data removed]"
     },
     "metadata": {},
     "output_type": "display_data"
    }
   ],
   "source": [
    "for k in model.jac.keys():\n",
    "    if 'Y' == k[0]:\n",
    "        print(f\"{k}, only zeros: {np.isclose(model.jac[k], 0.0).all()}\")\n",
    "\n",
    "for e in model.shocks:\n",
    "    if e != 'eg' and not np.isclose(model.IRF[e], 0.0).all():\n",
    "        print(f\"Schock {e} has a non-zero trajectory.\")\n",
    "\n",
    "decompose_Y(model, plot_dY=True)"
   ],
   "metadata": {
    "collapsed": false
   }
  },
  {
   "cell_type": "markdown",
   "source": [
    "Problem with this decomposition:\n",
    "It does not reflect the source of the respective changes.\n",
    "If we look at the change in investment, this change in investment can have different sources:\n",
    "1. Crowding out\n",
    "2. Change in investment demand through higher output (which could come from the direct government spending effect on demand, the consumpton response, ...)\n",
    "Given the simple decomposition based on the goods market clearing, we can not separate, where this effect comes from."
   ],
   "metadata": {
    "collapsed": false
   }
  },
  {
   "cell_type": "markdown",
   "source": [
    "# General equilibrium decomposition"
   ],
   "metadata": {
    "collapsed": false
   }
  },
  {
   "cell_type": "code",
   "execution_count": 8,
   "outputs": [
    {
     "name": "stdout",
     "output_type": "stream",
     "text": [
      "('C_hh', 'eg')\n",
      "('C_hh', 'em')\n",
      "('C_hh', 'ez')\n",
      "('C_hh', 'r')\n",
      "('C_hh', 'w')\n",
      "('C_hh', 'Y')\n",
      "('C_hh', 'Ip')\n",
      "('C_hh', 'Q')\n",
      "('G', 'eg')\n",
      "('G', 'em')\n",
      "('G', 'ez')\n",
      "('G', 'r')\n",
      "('G', 'w')\n",
      "('G', 'Y')\n",
      "('G', 'Ip')\n",
      "('G', 'Q')\n",
      "('I', 'eg')\n",
      "('I', 'em')\n",
      "('I', 'ez')\n",
      "('I', 'r')\n",
      "('I', 'w')\n",
      "('I', 'Y')\n",
      "('I', 'Ip')\n",
      "('I', 'Q')\n",
      "('psi', 'eg')\n",
      "('psi', 'em')\n",
      "('psi', 'ez')\n",
      "('psi', 'r')\n",
      "('psi', 'w')\n",
      "('psi', 'Y')\n",
      "('psi', 'Ip')\n",
      "('psi', 'Q')\n",
      "('L_hh', 'eg')\n",
      "('L_hh', 'em')\n",
      "('L_hh', 'ez')\n",
      "('L_hh', 'r')\n",
      "('L_hh', 'w')\n",
      "('L_hh', 'Y')\n",
      "('L_hh', 'Ip')\n",
      "('L_hh', 'Q')\n",
      "('C_hh', 'eg')\n",
      "('C_hh', 'eg') to zero\n",
      "('C_hh', 'em')\n",
      "('C_hh', 'ez')\n",
      "('C_hh', 'r')\n",
      "('C_hh', 'w')\n",
      "('C_hh', 'Y')\n",
      "('C_hh', 'Ip')\n",
      "('C_hh', 'Q')\n",
      "('G', 'eg')\n",
      "('G', 'em')\n",
      "('G', 'ez')\n",
      "('G', 'r')\n",
      "('G', 'w')\n",
      "('G', 'Y')\n",
      "('G', 'Ip')\n",
      "('G', 'Q')\n",
      "('I', 'eg')\n",
      "('I', 'em')\n",
      "('I', 'ez')\n",
      "('I', 'r')\n",
      "('I', 'w')\n",
      "('I', 'Y')\n",
      "('I', 'Ip')\n",
      "('I', 'Q')\n",
      "('psi', 'eg')\n",
      "('psi', 'em')\n",
      "('psi', 'ez')\n",
      "('psi', 'r')\n",
      "('psi', 'w')\n",
      "('psi', 'Y')\n",
      "('psi', 'Ip')\n",
      "('psi', 'Q')\n",
      "('L_hh', 'eg')\n",
      "('L_hh', 'em')\n",
      "('L_hh', 'ez')\n",
      "('L_hh', 'r')\n",
      "('L_hh', 'w')\n",
      "('L_hh', 'Y')\n",
      "('L_hh', 'Ip')\n",
      "('L_hh', 'Q')\n"
     ]
    },
    {
     "ename": "AssertionError",
     "evalue": "('C_hh', 'tau') not in jac.keys()",
     "output_type": "error",
     "traceback": [
      "\u001B[1;31m---------------------------------------------------------------------------\u001B[0m",
      "\u001B[1;31mAssertionError\u001B[0m                            Traceback (most recent call last)",
      "\u001B[1;32m~\\AppData\\Local\\Temp/ipykernel_6844/2596785616.py\u001B[0m in \u001B[0;36m<module>\u001B[1;34m\u001B[0m\n\u001B[0;32m      2\u001B[0m \u001B[0mdY\u001B[0m \u001B[1;33m=\u001B[0m \u001B[0mdecompose_Y\u001B[0m\u001B[1;33m(\u001B[0m\u001B[0mmodel\u001B[0m\u001B[1;33m,\u001B[0m \u001B[0mplot_dY\u001B[0m\u001B[1;33m=\u001B[0m\u001B[1;32mFalse\u001B[0m\u001B[1;33m,\u001B[0m \u001B[0mreturn_dY\u001B[0m\u001B[1;33m=\u001B[0m\u001B[1;32mTrue\u001B[0m\u001B[1;33m)\u001B[0m\u001B[1;33m\u001B[0m\u001B[1;33m\u001B[0m\u001B[0m\n\u001B[0;32m      3\u001B[0m \u001B[0mdY_demand\u001B[0m \u001B[1;33m=\u001B[0m \u001B[0mdecompose_Y\u001B[0m\u001B[1;33m(\u001B[0m\u001B[0mmodel\u001B[0m\u001B[1;33m,\u001B[0m \u001B[0mplot_dY\u001B[0m\u001B[1;33m=\u001B[0m\u001B[1;32mFalse\u001B[0m\u001B[1;33m,\u001B[0m \u001B[0mreturn_dY\u001B[0m\u001B[1;33m=\u001B[0m\u001B[1;32mTrue\u001B[0m\u001B[1;33m,\u001B[0m \u001B[0mset_jacs_zero\u001B[0m\u001B[1;33m=\u001B[0m\u001B[1;33m[\u001B[0m\u001B[1;33m(\u001B[0m\u001B[1;34m'C_hh'\u001B[0m\u001B[1;33m,\u001B[0m \u001B[1;34m'eg'\u001B[0m\u001B[1;33m)\u001B[0m\u001B[1;33m]\u001B[0m\u001B[1;33m)\u001B[0m\u001B[1;33m\u001B[0m\u001B[1;33m\u001B[0m\u001B[0m\n\u001B[1;32m----> 4\u001B[1;33m \u001B[0mdY_tax\u001B[0m \u001B[1;33m=\u001B[0m \u001B[0mdecompose_Y\u001B[0m\u001B[1;33m(\u001B[0m\u001B[0mmodel\u001B[0m\u001B[1;33m,\u001B[0m \u001B[0mplot_dY\u001B[0m\u001B[1;33m=\u001B[0m\u001B[1;32mFalse\u001B[0m\u001B[1;33m,\u001B[0m \u001B[0mreturn_dY\u001B[0m\u001B[1;33m=\u001B[0m\u001B[1;32mTrue\u001B[0m\u001B[1;33m,\u001B[0m \u001B[0mset_jacs_zero\u001B[0m\u001B[1;33m=\u001B[0m\u001B[1;33m[\u001B[0m\u001B[1;33m(\u001B[0m\u001B[1;34m'C_hh'\u001B[0m\u001B[1;33m,\u001B[0m \u001B[1;34m'tau'\u001B[0m\u001B[1;33m)\u001B[0m\u001B[1;33m]\u001B[0m\u001B[1;33m)\u001B[0m\u001B[1;33m\u001B[0m\u001B[1;33m\u001B[0m\u001B[0m\n\u001B[0m\u001B[0;32m      5\u001B[0m \u001B[1;33m\u001B[0m\u001B[0m\n\u001B[0;32m      6\u001B[0m \u001B[0mdY_tax\u001B[0m \u001B[1;33m+\u001B[0m \u001B[0mdY_demand\u001B[0m \u001B[1;33m-\u001B[0m \u001B[0mdY\u001B[0m\u001B[1;33m\u001B[0m\u001B[1;33m\u001B[0m\u001B[0m\n",
      "\u001B[1;32m~\\AppData\\Local\\Temp/ipykernel_6844/826466971.py\u001B[0m in \u001B[0;36mdecompose_Y\u001B[1;34m(model, plot_dY, return_dY, set_jacs_zero)\u001B[0m\n\u001B[0;32m      3\u001B[0m \u001B[1;33m\u001B[0m\u001B[0m\n\u001B[0;32m      4\u001B[0m     \u001B[1;32mfor\u001B[0m \u001B[0mj\u001B[0m \u001B[1;32min\u001B[0m \u001B[0mset_jacs_zero\u001B[0m\u001B[1;33m:\u001B[0m\u001B[1;33m\u001B[0m\u001B[1;33m\u001B[0m\u001B[0m\n\u001B[1;32m----> 5\u001B[1;33m         \u001B[1;32massert\u001B[0m \u001B[0mj\u001B[0m \u001B[1;32min\u001B[0m \u001B[0mmodel\u001B[0m\u001B[1;33m.\u001B[0m\u001B[0mjac\u001B[0m\u001B[1;33m.\u001B[0m\u001B[0mkeys\u001B[0m\u001B[1;33m(\u001B[0m\u001B[1;33m)\u001B[0m\u001B[1;33m,\u001B[0m \u001B[1;34mf'{j} not in jac.keys()'\u001B[0m\u001B[1;33m\u001B[0m\u001B[1;33m\u001B[0m\u001B[0m\n\u001B[0m\u001B[0;32m      6\u001B[0m \u001B[1;33m\u001B[0m\u001B[0m\n\u001B[0;32m      7\u001B[0m     \u001B[1;32mif\u001B[0m \u001B[0mplot_dY\u001B[0m\u001B[1;33m:\u001B[0m\u001B[1;33m\u001B[0m\u001B[1;33m\u001B[0m\u001B[0m\n",
      "\u001B[1;31mAssertionError\u001B[0m: ('C_hh', 'tau') not in jac.keys()"
     ]
    }
   ],
   "source": [
    "# wrong! set jacobians for all variables not in the (disjoint) subset to zero\n",
    "dY = decompose_Y(model, plot_dY=False, return_dY=True)\n",
    "dY_demand = decompose_Y(model, plot_dY=False, return_dY=True, set_jacs_zero=[('C_hh', 'eg')])\n",
    "dY_tax = decompose_Y(model, plot_dY=False, return_dY=True, set_jacs_zero=[('C_hh', 'tau')])\n",
    "\n",
    "dY_tax + dY_demand - dY"
   ],
   "metadata": {
    "collapsed": false
   }
  },
  {
   "cell_type": "code",
   "execution_count": 25,
   "outputs": [
    {
     "name": "stdout",
     "output_type": "stream",
     "text": [
      "('C_hh', 'eg')\n",
      "('C_hh', 'em')\n",
      "('C_hh', 'ez')\n",
      "('C_hh', 'r')\n",
      "('C_hh', 'w')\n",
      "('C_hh', 'Y')\n",
      "('C_hh', 'Ip')\n",
      "('C_hh', 'Q')\n",
      "('G', 'eg')\n",
      "('G', 'em')\n",
      "('G', 'ez')\n",
      "('G', 'r')\n",
      "('G', 'w')\n",
      "('G', 'Y')\n",
      "('G', 'Ip')\n",
      "('G', 'Q')\n",
      "('I', 'eg')\n",
      "('I', 'em')\n",
      "('I', 'ez')\n",
      "('I', 'r')\n",
      "('I', 'w')\n",
      "('I', 'Y')\n",
      "('I', 'Ip')\n",
      "('I', 'Q')\n",
      "('psi', 'eg')\n",
      "('psi', 'em')\n",
      "('psi', 'ez')\n",
      "('psi', 'r')\n",
      "('psi', 'w')\n",
      "('psi', 'Y')\n",
      "('psi', 'Ip')\n",
      "('psi', 'Q')\n",
      "('L_hh', 'eg')\n",
      "('L_hh', 'em')\n",
      "('L_hh', 'ez')\n",
      "('L_hh', 'r')\n",
      "('L_hh', 'w')\n",
      "('L_hh', 'Y')\n",
      "('L_hh', 'Ip')\n",
      "('L_hh', 'Q')\n",
      "('C_hh', 'eg')\n",
      "('C_hh', 'em')\n",
      "('C_hh', 'ez')\n",
      "('C_hh', 'r')\n",
      "('C_hh', 'w')\n",
      "('C_hh', 'Y')\n",
      "('C_hh', 'Ip')\n",
      "('C_hh', 'Q')\n",
      "('G', 'eg')\n",
      "('G', 'em')\n",
      "('G', 'ez')\n",
      "('G', 'r')\n",
      "('G', 'w')\n",
      "('G', 'Y')\n",
      "('G', 'Ip')\n",
      "('G', 'Q')\n",
      "('I', 'eg')\n",
      "('I', 'em')\n",
      "('I', 'ez')\n",
      "('I', 'r')\n",
      "('I', 'w')\n",
      "('I', 'Y')\n",
      "('I', 'Ip')\n",
      "('I', 'Q')\n",
      "('psi', 'eg')\n",
      "('psi', 'em')\n",
      "('psi', 'ez')\n",
      "('psi', 'r')\n",
      "('psi', 'w')\n",
      "('psi', 'Y')\n",
      "('psi', 'Ip')\n",
      "('psi', 'Q')\n",
      "('L_hh', 'eg')\n",
      "('L_hh', 'em')\n",
      "('L_hh', 'ez')\n",
      "('L_hh', 'r')\n",
      "('L_hh', 'w')\n",
      "('L_hh', 'Y')\n",
      "('L_hh', 'Ip')\n",
      "('L_hh', 'Q')\n",
      "('C_hh', 'eg')\n",
      "('C_hh', 'em')\n",
      "('C_hh', 'ez')\n",
      "('C_hh', 'r')\n",
      "('C_hh', 'w')\n",
      "('C_hh', 'Y')\n",
      "('C_hh', 'Ip')\n",
      "('C_hh', 'Q')\n",
      "('G', 'eg')\n",
      "('G', 'em')\n",
      "('G', 'ez')\n",
      "('G', 'r')\n",
      "('G', 'w')\n",
      "('G', 'Y')\n",
      "('G', 'Ip')\n",
      "('G', 'Q')\n",
      "('I', 'eg')\n",
      "('I', 'em')\n",
      "('I', 'ez')\n",
      "('I', 'r')\n",
      "('I', 'w')\n",
      "('I', 'Y')\n",
      "('I', 'Ip')\n",
      "('I', 'Q')\n",
      "('psi', 'eg')\n",
      "('psi', 'em')\n",
      "('psi', 'ez')\n",
      "('psi', 'r')\n",
      "('psi', 'w')\n",
      "('psi', 'Y')\n",
      "('psi', 'Ip')\n",
      "('psi', 'Q')\n",
      "('L_hh', 'eg')\n",
      "('L_hh', 'em')\n",
      "('L_hh', 'ez')\n",
      "('L_hh', 'r')\n",
      "('L_hh', 'w')\n",
      "('L_hh', 'Y')\n",
      "('L_hh', 'Ip')\n",
      "('L_hh', 'Q')\n"
     ]
    },
    {
     "data": {
      "text/plain": "array([ 6.54193398e-04,  8.02781158e-04,  7.56776814e-04,  6.96600956e-04,\n        6.24626558e-04,  5.43466597e-04,  4.55543899e-04,  3.63115393e-04,\n        2.68265279e-04,  1.72887811e-04,  7.86766252e-05, -1.28807893e-05,\n       -1.00502088e-04, -1.83110472e-04, -2.59828880e-04, -3.29972648e-04,\n       -3.93038947e-04, -4.48694512e-04, -4.96766035e-04, -5.37226378e-04,\n       -5.70177559e-04, -5.95835263e-04, -6.14513016e-04, -6.26606353e-04,\n       -6.32577290e-04, -6.32939324e-04, -6.28243107e-04, -6.19063013e-04,\n       -6.05984733e-04, -5.89594016e-04, -5.70466648e-04, -5.49159670e-04,\n       -5.26203882e-04, -5.02097657e-04, -4.77302053e-04, -4.52237107e-04,\n       -4.27279188e-04, -4.02759352e-04, -3.78962647e-04, -3.56128311e-04,\n       -3.34450746e-04, -3.14081172e-04, -2.95129855e-04, -2.77668777e-04,\n       -2.61734688e-04, -2.47332422e-04, -2.34438403e-04, -2.23004264e-04,\n       -2.12960501e-04, -2.04220088e-04, -1.96682015e-04, -1.90234676e-04,\n       -1.84759074e-04, -1.80131816e-04, -1.76227843e-04, -1.72922914e-04,\n       -1.70095786e-04, -1.67630129e-04, -1.65416126e-04, -1.63351809e-04,\n       -1.61344098e-04, -1.59309585e-04, -1.57175062e-04, -1.54877814e-04,\n       -1.52365699e-04, -1.49597036e-04, -1.46540323e-04, -1.43173806e-04,\n       -1.39484926e-04, -1.35469660e-04, -1.31131790e-04, -1.26482104e-04,\n       -1.21537563e-04, -1.16320449e-04, -1.10857504e-04, -1.05179080e-04,\n       -9.93183190e-05, -9.33103614e-05, -8.71916031e-05, -8.09990039e-05,\n       -7.47694553e-05, -6.85392119e-05, -6.23433877e-05, -5.62155212e-05,\n       -5.01872078e-05, -4.42877993e-05, -3.85441681e-05, -3.29805331e-05,\n       -2.76183449e-05, -2.24762243e-05, -1.75699506e-05, -1.29124949e-05,\n       -8.51409199e-06, -4.38234692e-06, -5.22370311e-07,  3.06306346e-06,\n        6.37333873e-06,  9.40980812e-06,  1.21755924e-05,  1.46753758e-05,\n        1.69152001e-05,  1.89022611e-05,  2.06447104e-05,  2.21514651e-05,\n        2.34320277e-05,  2.44963186e-05,  2.53545205e-05,  2.60169384e-05,\n        2.64938747e-05,  2.67955185e-05,  2.69318517e-05,  2.69125693e-05,\n        2.67470153e-05,  2.64441316e-05,  2.60124218e-05,  2.54599253e-05,\n        2.47942052e-05,  2.40223437e-05,  2.31509488e-05,  2.21861673e-05,\n        2.11337050e-05,  1.99988523e-05,  1.87865142e-05,  1.75012429e-05,\n        1.61472731e-05,  1.47278804e-05,  1.32481755e-05,  1.17109437e-05,\n        1.01195096e-05,  8.47706202e-06,  6.78668190e-06,  5.05137312e-06,\n        3.27408890e-06,  1.45775504e-06, -3.94710542e-07, -2.28038038e-06,\n       -4.19630459e-06, -6.13950023e-06, -8.10694423e-06, -1.00955692e-05,\n       -1.21022619e-05, -1.41238638e-05, -1.61571755e-05, -1.81989606e-05,\n       -2.02459541e-05, -2.22948701e-05, -2.43424120e-05, -2.63852827e-05,\n       -2.84201969e-05, -3.04438915e-05, -3.24531391e-05, -3.44447587e-05,\n       -3.64156285e-05, -3.83626965e-05, -4.02829918e-05, -4.21736348e-05,\n       -4.40318467e-05, -4.58549578e-05, -4.76404156e-05, -4.93857917e-05,\n       -5.10887869e-05, -5.27472367e-05, -5.43591150e-05, -5.59225366e-05,\n       -5.74357600e-05, -5.88971873e-05, -6.03053657e-05, -6.16589861e-05,\n       -6.29568823e-05, -6.41980288e-05, -6.53815389e-05, -6.65066612e-05,\n       -6.75727765e-05, -6.85793941e-05, -6.95261474e-05, -7.04127902e-05,\n       -7.12391919e-05, -7.20053326e-05, -7.27112992e-05, -7.33572802e-05,\n       -7.39435609e-05, -7.44705195e-05, -7.49386219e-05, -7.53484174e-05,\n       -7.57005349e-05, -7.59956779e-05, -7.62346215e-05, -7.64182079e-05,\n       -7.65473428e-05, -7.66229923e-05, -7.66461793e-05, -7.66179804e-05,\n       -7.65395229e-05, -7.64119825e-05, -7.62365795e-05, -7.60145773e-05,\n       -7.57472794e-05, -7.54360275e-05, -7.50821986e-05, -7.46872035e-05,\n       -7.42524842e-05, -7.37795123e-05, -7.32697864e-05, -7.27248306e-05,\n       -7.21461923e-05, -7.15354397e-05, -7.08941607e-05, -7.02239596e-05,\n       -6.95264556e-05, -6.88032801e-05, -6.80560743e-05, -6.72864864e-05,\n       -6.64961689e-05, -6.56867753e-05, -6.48599565e-05, -6.40173574e-05,\n       -6.31606121e-05, -6.22913401e-05, -6.14111409e-05, -6.05215878e-05,\n       -5.96242226e-05, -5.87205482e-05, -5.78120209e-05, -5.69000424e-05,\n       -5.59859508e-05, -5.50710100e-05, -5.41564000e-05, -5.32432065e-05,\n       -5.23324113e-05, -5.14248852e-05, -5.05213832e-05, -4.96225402e-05,\n       -4.87288704e-05, -4.78407704e-05, -4.69585250e-05, -4.60823147e-05,\n       -4.52122181e-05, -4.43482106e-05, -4.34901330e-05, -4.26376954e-05,\n       -4.17903604e-05, -4.09474990e-05, -4.01079401e-05, -3.92704066e-05,\n       -3.84332627e-05, -3.75928533e-05, -3.67449480e-05, -3.58871383e-05,\n       -3.50117088e-05, -3.40997013e-05])"
     },
     "execution_count": 25,
     "metadata": {},
     "output_type": "execute_result"
    }
   ],
   "source": [
    "# dY_all = model.IRF['Y']\n",
    "subset = [k for k in model.jac.keys() if 'eg' in k[1]]\n",
    "dY = decompose_Y(model, plot_dY=False, return_dY=True)\n",
    "dY_no_eg = decompose_Y(model, plot_dY=False, return_dY=True, set_jacs_zero=subset)\n",
    "dY_eg = decompose_Y(model, plot_dY=False, return_dY=True)\n",
    "\n",
    "dY_no_eg"
   ],
   "metadata": {
    "collapsed": false
   }
  },
  {
   "cell_type": "code",
   "execution_count": 26,
   "outputs": [
    {
     "data": {
      "text/plain": "[('A', 'eg'),\n ('B', 'eg'),\n ('clearing_A', 'eg'),\n ('clearing_L', 'eg'),\n ('clearing_C', 'eg'),\n ('clearing_Y', 'eg'),\n ('Div_int', 'eg'),\n ('Div_k', 'eg'),\n ('Div', 'eg'),\n ('eg', 'eg'),\n ('ez', 'eg'),\n ('em', 'eg'),\n ('fisher_res', 'eg'),\n ('G', 'eg'),\n ('i', 'eg'),\n ('I', 'eg'),\n ('invest_res', 'eg'),\n ('Ip', 'eg'),\n ('K', 'eg'),\n ('L', 'eg'),\n ('N', 'eg'),\n ('p_eq', 'eg'),\n ('p_int', 'eg'),\n ('p_k', 'eg'),\n ('p_share', 'eg'),\n ('Pi_increase', 'eg'),\n ('Pi_w_increase', 'eg'),\n ('Pi_w', 'eg'),\n ('Pi', 'eg'),\n ('psi', 'eg'),\n ('q', 'eg'),\n ('Q', 'eg'),\n ('qB', 'eg'),\n ('r', 'eg'),\n ('ra', 'eg'),\n ('rk', 'eg'),\n ('rl', 'eg'),\n ('s_w', 'eg'),\n ('s', 'eg'),\n ('tau', 'eg'),\n ('wN', 'eg'),\n ('valuation_res', 'eg'),\n ('w_res', 'eg'),\n ('w', 'eg'),\n ('Y', 'eg'),\n ('Z', 'eg'),\n ('C_hh', 'eg'),\n ('L_hh', 'eg'),\n ('A_hh', 'eg'),\n ('UCE_hh', 'eg')]"
     },
     "execution_count": 26,
     "metadata": {},
     "output_type": "execute_result"
    }
   ],
   "source": [
    "[k for k in model.jac.keys() if 'eg' in k[1]]"
   ],
   "metadata": {
    "collapsed": false
   }
  },
  {
   "cell_type": "code",
   "execution_count": 27,
   "outputs": [
    {
     "data": {
      "text/plain": "['A',\n 'B',\n 'clearing_A',\n 'clearing_L',\n 'clearing_C',\n 'clearing_Y',\n 'Div_int',\n 'Div_k',\n 'Div',\n 'eg',\n 'ez',\n 'em',\n 'fisher_res',\n 'G',\n 'i',\n 'I',\n 'invest_res',\n 'Ip',\n 'K',\n 'L',\n 'N',\n 'p_eq',\n 'p_int',\n 'p_k',\n 'p_share',\n 'Pi_increase',\n 'Pi_w_increase',\n 'Pi_w',\n 'Pi',\n 'psi',\n 'q',\n 'Q',\n 'qB',\n 'r',\n 'ra',\n 'rk',\n 'rl',\n 's_w',\n 's',\n 'tau',\n 'wN',\n 'valuation_res',\n 'w_res',\n 'w',\n 'Y',\n 'Z',\n 'C_hh',\n 'L_hh',\n 'A_hh',\n 'UCE_hh']"
     },
     "execution_count": 27,
     "metadata": {},
     "output_type": "execute_result"
    }
   ],
   "source": [
    "model.varlist"
   ],
   "metadata": {
    "collapsed": false
   }
  },
  {
   "cell_type": "code",
   "execution_count": null,
   "outputs": [],
   "source": [
    "vars_unaffected = ['N', 'wN']\n",
    "vars_affected = []"
   ],
   "metadata": {
    "collapsed": false
   }
  },
  {
   "cell_type": "code",
   "execution_count": null,
   "outputs": [],
   "source": [
    "# dY_all = model.IRF['Y']\n",
    "subset = [k for k in model.jac.keys() if 'eg' in k[1]]\n",
    "subset += [k for k in model.jac.keys() if 'q' in k[1]]\n",
    "\n",
    "dY = decompose_Y(model, plot_dY=False, return_dY=True)\n",
    "dY_no_eg = decompose_Y(model, plot_dY=False, return_dY=True, set_jacs_zero=subset)\n",
    "dY_eg = decompose_Y(model, plot_dY=False, return_dY=True)\n",
    "\n",
    "dY_no_eg"
   ],
   "metadata": {
    "collapsed": false
   }
  },
  {
   "cell_type": "code",
   "execution_count": 30,
   "outputs": [
    {
     "data": {
      "text/plain": "[('clearing_Y', 'r'),\n ('clearing_Y', 'w'),\n ('clearing_Y', 'Y'),\n ('clearing_Y', 'Ip'),\n ('clearing_Y', 'Q'),\n ('clearing_Y', 'eg'),\n ('clearing_Y', 'em'),\n ('clearing_Y', 'ez'),\n ('Y', 'r'),\n ('Y', 'w'),\n ('Y', 'Y'),\n ('Y', 'Ip'),\n ('Y', 'Q'),\n ('Y', 'eg'),\n ('Y', 'em'),\n ('Y', 'ez')]"
     },
     "execution_count": 30,
     "metadata": {},
     "output_type": "execute_result"
    }
   ],
   "source": [
    "[k for k in model.jac.keys() if 'Y' in k[0]]"
   ],
   "metadata": {
    "collapsed": false
   }
  },
  {
   "cell_type": "code",
   "execution_count": 47,
   "outputs": [
    {
     "name": "stdout",
     "output_type": "stream",
     "text": [
      "('Y', 'r'), only zeros: True\n",
      "('Y', 'w'), only zeros: True\n",
      "('Y', 'Y'), only zeros: False\n",
      "('Y', 'Ip'), only zeros: True\n",
      "('Y', 'Q'), only zeros: True\n",
      "('Y', 'eg'), only zeros: True\n",
      "('Y', 'em'), only zeros: True\n",
      "('Y', 'ez'), only zeros: True\n"
     ]
    }
   ],
   "source": [
    "for k in model.jac.keys():\n",
    "    if 'Y' == k[0]:\n",
    "        print(f\"{k}, only zeros: {np.isclose(model.jac[k], 0.0).all()}\")"
   ],
   "metadata": {
    "collapsed": false
   }
  },
  {
   "cell_type": "code",
   "execution_count": 46,
   "outputs": [
    {
     "data": {
      "text/plain": "array([[1., 0., 0., ..., 0., 0., 0.],\n       [0., 1., 0., ..., 0., 0., 0.],\n       [0., 0., 1., ..., 0., 0., 0.],\n       ...,\n       [0., 0., 0., ..., 1., 0., 0.],\n       [0., 0., 0., ..., 0., 1., 0.],\n       [0., 0., 0., ..., 0., 0., 1.]])"
     },
     "execution_count": 46,
     "metadata": {},
     "output_type": "execute_result"
    }
   ],
   "source": [
    "i = 3\n",
    "o = 4\n",
    "model.H_Z[250*i:250*(i+1), 250*o:250*(o+1)]"
   ],
   "metadata": {
    "collapsed": false
   }
  },
  {
   "cell_type": "code",
   "execution_count": 56,
   "outputs": [
    {
     "data": {
      "text/plain": "['r', 'w', 'Y', 'Ip', 'Q']"
     },
     "execution_count": 56,
     "metadata": {},
     "output_type": "execute_result"
    }
   ],
   "source": [
    "model.unknowns"
   ],
   "metadata": {
    "collapsed": false
   }
  },
  {
   "cell_type": "code",
   "execution_count": 59,
   "outputs": [
    {
     "data": {
      "text/plain": "array([-2.79668631e-03, -2.63335405e-03, -2.30930208e-03, -2.00151735e-03,\n       -1.70933746e-03, -1.43260203e-03, -1.17121706e-03, -9.25186427e-04,\n       -6.94570121e-04, -4.79441543e-04, -2.79853539e-04, -9.58162630e-05,\n        7.27202710e-05,  2.25880135e-04,  3.63869396e-04,  4.86980464e-04,\n        5.95592239e-04,  6.90167283e-04,  7.71249621e-04,  8.39458027e-04,\n        8.95476144e-04,  9.40043076e-04,  9.73943085e-04,  9.97994778e-04,\n        1.01304013e-03,  1.01993357e-03,  1.01953151e-03,  1.01268228e-03,\n        1.00021693e-03,  9.82940796e-04,  9.61626080e-04,  9.37005388e-04,\n        9.09766346e-04,  8.80547307e-04,  8.49934134e-04,  8.18457999e-04,\n        7.86594121e-04,  7.54761372e-04,  7.23322731e-04,  6.92586489e-04,\n        6.62808148e-04,  6.34192876e-04,  6.06898473e-04,  5.81038701e-04,\n        5.56686932e-04,  5.33880000e-04,  5.12622199e-04,  4.92889330e-04,\n        4.74632754e-04,  4.57783359e-04,  4.42255414e-04,  4.27950240e-04,\n        4.14759678e-04,  4.02569301e-04,  3.91261369e-04,  3.80717479e-04,\n        3.70820929e-04,  3.61458770e-04,  3.52523551e-04,  3.43914768e-04,\n        3.35540019e-04,  3.27315879e-04,  3.19168519e-04,  3.11034075e-04,\n        3.02858803e-04,  2.94599023e-04,  2.86220899e-04,  2.77700054e-04,\n        2.69021065e-04,  2.60176841e-04,  2.51167931e-04,  2.42001753e-04,\n        2.32691794e-04,  2.23256775e-04,  2.13719821e-04,  2.04107626e-04,\n        1.94449649e-04,  1.84777341e-04,  1.75123413e-04,  1.65521157e-04,\n        1.56003821e-04,  1.46604056e-04,  1.37353411e-04,  1.28281913e-04,\n        1.19417697e-04,  1.10786716e-04,  1.02412509e-04,  9.43160243e-05,\n        8.65155140e-05,  7.90264708e-05,  7.18616188e-05,  6.50309482e-05,\n        5.85417878e-05,  5.23989114e-05,  4.66046742e-05,  4.11591706e-05,\n        3.60604104e-05,  3.13045107e-05,  2.68858934e-05,  2.27974896e-05,\n        1.90309457e-05,  1.55768238e-05,  1.24248005e-05,  9.56385454e-06,\n        6.98244715e-06,  4.66868675e-06,  2.61048370e-06,  7.95688369e-07,\n       -7.87783541e-07, -2.15184454e-06, -3.30814183e-06, -4.26797762e-06,\n       -5.04224924e-06, -5.64139743e-06, -6.07537225e-06, -6.35360956e-06,\n       -6.48501863e-06, -6.47798089e-06, -6.34035677e-06, -6.07950002e-06,\n       -5.70228053e-06, -5.21511021e-06, -4.62397498e-06, -3.93446799e-06,\n       -3.15182751e-06, -2.27508795e-06, -1.32130985e-06, -2.88289035e-07,\n        8.19780715e-07,  1.99887751e-06,  3.24511666e-06,  4.55472219e-06,\n        5.92399733e-06,  7.34930289e-06,  8.82703433e-06,  1.03536045e-05,\n        1.19254289e-05,  1.35389153e-05,  1.51904549e-05,  1.68764172e-05,\n        1.85931486e-05,  2.03369706e-05,  2.21041850e-05,  2.38910763e-05,\n        2.56939187e-05,  2.75089845e-05,  2.93325523e-05,  3.11609174e-05,\n        3.29904034e-05,  3.48173713e-05,  3.66382329e-05,  3.84494615e-05,\n        4.02476026e-05,  4.20292859e-05,  4.37912342e-05,  4.55302739e-05,\n        4.72433455e-05,  4.89275082e-05,  5.05799509e-05,  5.21979960e-05,\n        5.37791061e-05,  5.53208875e-05,  5.68210952e-05,  5.82776338e-05,\n        5.96885592e-05,  6.10520805e-05,  6.23665591e-05,  6.36305088e-05,\n        6.48425920e-05,  6.60016202e-05,  6.71065502e-05,  6.81564804e-05,\n        6.91506471e-05,  7.00884221e-05,  7.09693070e-05,  7.17929280e-05,\n        7.25590336e-05,  7.32674880e-05,  7.39182660e-05,  7.45114496e-05,\n        7.50472219e-05,  7.55258627e-05,  7.59477446e-05,  7.63133265e-05,\n        7.66231515e-05,  7.68778404e-05,  7.70780897e-05,  7.72246651e-05,\n        7.73184004e-05,  7.73601924e-05,  7.73509974e-05,  7.72918283e-05,\n        7.71837515e-05,  7.70278843e-05,  7.68253916e-05,  7.65774827e-05,\n        7.62854102e-05,  7.59504666e-05,  7.55739825e-05,  7.51573232e-05,\n        7.47018879e-05,  7.42091071e-05,  7.36804403e-05,  7.31173735e-05,\n        7.25214182e-05,  7.18941080e-05,  7.12369978e-05,  7.05516602e-05,\n        6.98396843e-05,  6.91026727e-05,  6.83422384e-05,  6.75600032e-05,\n        6.67575946e-05,  6.59366416e-05,  6.50987717e-05,  6.42456081e-05,\n        6.33787630e-05,  6.24998360e-05,  6.16104070e-05,  6.07120306e-05,\n        5.98062310e-05,  5.88944940e-05,  5.79782595e-05,  5.70589136e-05,\n        5.61377797e-05,  5.52161072e-05,  5.42950628e-05,  5.33757187e-05,\n        5.24590445e-05,  5.15458989e-05,  5.06370257e-05,  4.97330488e-05,\n        4.88344721e-05,  4.79416816e-05,  4.70549531e-05,  4.61744582e-05,\n        4.53002660e-05,  4.44323442e-05,  4.35705253e-05,  4.27145119e-05,\n        4.18637592e-05,  4.10176312e-05,  4.01749501e-05,  3.93344327e-05,\n        3.84944366e-05,  3.76513015e-05,  3.68007905e-05,  3.59404906e-05,\n        3.50626807e-05,  3.41483976e-05])"
     },
     "execution_count": 59,
     "metadata": {},
     "output_type": "execute_result"
    }
   ],
   "source": [
    "i_Y = 2\n",
    "dY = np.zeros_like(model.IRF['Y'])\n",
    "for i_s,s_i in enumerate(model.shocks):\n",
    "    dY += model.H_Z[250*i_Y:250*(i_Y+1), 250*i_s:250*(i_s+1)] @ model.IRF[s_i]\n",
    "# for i_u, u_i in enumerate(model.unknowns):\n",
    "#     if u_i == 'Y': continue\n",
    "#     dY += model.H_U[250*i_Y:250*(i_Y+1), 250*i_u:250*(i_u+1)] @ model.IRF[u_i]\n",
    "\n",
    "dY - model.IRF['Y']\n"
   ],
   "metadata": {
    "collapsed": false
   }
  },
  {
   "cell_type": "code",
   "execution_count": 62,
   "outputs": [
    {
     "data": {
      "text/plain": "dict_keys([('A', 'r'), ('A', 'w'), ('A', 'Y'), ('A', 'Ip'), ('A', 'Q'), ('A', 'eg'), ('A', 'em'), ('A', 'ez'), ('B', 'r'), ('B', 'w'), ('B', 'Y'), ('B', 'Ip'), ('B', 'Q'), ('B', 'eg'), ('B', 'em'), ('B', 'ez'), ('clearing_A', 'r'), ('clearing_A', 'w'), ('clearing_A', 'Y'), ('clearing_A', 'Ip'), ('clearing_A', 'Q'), ('clearing_A', 'eg'), ('clearing_A', 'em'), ('clearing_A', 'ez'), ('clearing_L', 'r'), ('clearing_L', 'w'), ('clearing_L', 'Y'), ('clearing_L', 'Ip'), ('clearing_L', 'Q'), ('clearing_L', 'eg'), ('clearing_L', 'em'), ('clearing_L', 'ez'), ('clearing_C', 'r'), ('clearing_C', 'w'), ('clearing_C', 'Y'), ('clearing_C', 'Ip'), ('clearing_C', 'Q'), ('clearing_C', 'eg'), ('clearing_C', 'em'), ('clearing_C', 'ez'), ('clearing_Y', 'r'), ('clearing_Y', 'w'), ('clearing_Y', 'Y'), ('clearing_Y', 'Ip'), ('clearing_Y', 'Q'), ('clearing_Y', 'eg'), ('clearing_Y', 'em'), ('clearing_Y', 'ez'), ('Div_int', 'r'), ('Div_int', 'w'), ('Div_int', 'Y'), ('Div_int', 'Ip'), ('Div_int', 'Q'), ('Div_int', 'eg'), ('Div_int', 'em'), ('Div_int', 'ez'), ('Div_k', 'r'), ('Div_k', 'w'), ('Div_k', 'Y'), ('Div_k', 'Ip'), ('Div_k', 'Q'), ('Div_k', 'eg'), ('Div_k', 'em'), ('Div_k', 'ez'), ('Div', 'r'), ('Div', 'w'), ('Div', 'Y'), ('Div', 'Ip'), ('Div', 'Q'), ('Div', 'eg'), ('Div', 'em'), ('Div', 'ez'), ('eg', 'r'), ('eg', 'w'), ('eg', 'Y'), ('eg', 'Ip'), ('eg', 'Q'), ('eg', 'eg'), ('eg', 'em'), ('eg', 'ez'), ('ez', 'r'), ('ez', 'w'), ('ez', 'Y'), ('ez', 'Ip'), ('ez', 'Q'), ('ez', 'eg'), ('ez', 'em'), ('ez', 'ez'), ('em', 'r'), ('em', 'w'), ('em', 'Y'), ('em', 'Ip'), ('em', 'Q'), ('em', 'eg'), ('em', 'em'), ('em', 'ez'), ('fisher_res', 'r'), ('fisher_res', 'w'), ('fisher_res', 'Y'), ('fisher_res', 'Ip'), ('fisher_res', 'Q'), ('fisher_res', 'eg'), ('fisher_res', 'em'), ('fisher_res', 'ez'), ('G', 'r'), ('G', 'w'), ('G', 'Y'), ('G', 'Ip'), ('G', 'Q'), ('G', 'eg'), ('G', 'em'), ('G', 'ez'), ('i', 'r'), ('i', 'w'), ('i', 'Y'), ('i', 'Ip'), ('i', 'Q'), ('i', 'eg'), ('i', 'em'), ('i', 'ez'), ('I', 'r'), ('I', 'w'), ('I', 'Y'), ('I', 'Ip'), ('I', 'Q'), ('I', 'eg'), ('I', 'em'), ('I', 'ez'), ('invest_res', 'r'), ('invest_res', 'w'), ('invest_res', 'Y'), ('invest_res', 'Ip'), ('invest_res', 'Q'), ('invest_res', 'eg'), ('invest_res', 'em'), ('invest_res', 'ez'), ('Ip', 'r'), ('Ip', 'w'), ('Ip', 'Y'), ('Ip', 'Ip'), ('Ip', 'Q'), ('Ip', 'eg'), ('Ip', 'em'), ('Ip', 'ez'), ('K', 'r'), ('K', 'w'), ('K', 'Y'), ('K', 'Ip'), ('K', 'Q'), ('K', 'eg'), ('K', 'em'), ('K', 'ez'), ('L', 'r'), ('L', 'w'), ('L', 'Y'), ('L', 'Ip'), ('L', 'Q'), ('L', 'eg'), ('L', 'em'), ('L', 'ez'), ('N', 'r'), ('N', 'w'), ('N', 'Y'), ('N', 'Ip'), ('N', 'Q'), ('N', 'eg'), ('N', 'em'), ('N', 'ez'), ('p_eq', 'r'), ('p_eq', 'w'), ('p_eq', 'Y'), ('p_eq', 'Ip'), ('p_eq', 'Q'), ('p_eq', 'eg'), ('p_eq', 'em'), ('p_eq', 'ez'), ('p_int', 'r'), ('p_int', 'w'), ('p_int', 'Y'), ('p_int', 'Ip'), ('p_int', 'Q'), ('p_int', 'eg'), ('p_int', 'em'), ('p_int', 'ez'), ('p_k', 'r'), ('p_k', 'w'), ('p_k', 'Y'), ('p_k', 'Ip'), ('p_k', 'Q'), ('p_k', 'eg'), ('p_k', 'em'), ('p_k', 'ez'), ('p_share', 'r'), ('p_share', 'w'), ('p_share', 'Y'), ('p_share', 'Ip'), ('p_share', 'Q'), ('p_share', 'eg'), ('p_share', 'em'), ('p_share', 'ez'), ('Pi_increase', 'r'), ('Pi_increase', 'w'), ('Pi_increase', 'Y'), ('Pi_increase', 'Ip'), ('Pi_increase', 'Q'), ('Pi_increase', 'eg'), ('Pi_increase', 'em'), ('Pi_increase', 'ez'), ('Pi_w_increase', 'r'), ('Pi_w_increase', 'w'), ('Pi_w_increase', 'Y'), ('Pi_w_increase', 'Ip'), ('Pi_w_increase', 'Q'), ('Pi_w_increase', 'eg'), ('Pi_w_increase', 'em'), ('Pi_w_increase', 'ez'), ('Pi_w', 'r'), ('Pi_w', 'w'), ('Pi_w', 'Y'), ('Pi_w', 'Ip'), ('Pi_w', 'Q'), ('Pi_w', 'eg'), ('Pi_w', 'em'), ('Pi_w', 'ez'), ('Pi', 'r'), ('Pi', 'w'), ('Pi', 'Y'), ('Pi', 'Ip'), ('Pi', 'Q'), ('Pi', 'eg'), ('Pi', 'em'), ('Pi', 'ez'), ('psi', 'r'), ('psi', 'w'), ('psi', 'Y'), ('psi', 'Ip'), ('psi', 'Q'), ('psi', 'eg'), ('psi', 'em'), ('psi', 'ez'), ('q', 'r'), ('q', 'w'), ('q', 'Y'), ('q', 'Ip'), ('q', 'Q'), ('q', 'eg'), ('q', 'em'), ('q', 'ez'), ('Q', 'r'), ('Q', 'w'), ('Q', 'Y'), ('Q', 'Ip'), ('Q', 'Q'), ('Q', 'eg'), ('Q', 'em'), ('Q', 'ez'), ('qB', 'r'), ('qB', 'w'), ('qB', 'Y'), ('qB', 'Ip'), ('qB', 'Q'), ('qB', 'eg'), ('qB', 'em'), ('qB', 'ez'), ('r', 'r'), ('r', 'w'), ('r', 'Y'), ('r', 'Ip'), ('r', 'Q'), ('r', 'eg'), ('r', 'em'), ('r', 'ez'), ('ra', 'r'), ('ra', 'w'), ('ra', 'Y'), ('ra', 'Ip'), ('ra', 'Q'), ('ra', 'eg'), ('ra', 'em'), ('ra', 'ez'), ('rk', 'r'), ('rk', 'w'), ('rk', 'Y'), ('rk', 'Ip'), ('rk', 'Q'), ('rk', 'eg'), ('rk', 'em'), ('rk', 'ez'), ('rl', 'r'), ('rl', 'w'), ('rl', 'Y'), ('rl', 'Ip'), ('rl', 'Q'), ('rl', 'eg'), ('rl', 'em'), ('rl', 'ez'), ('s_w', 'r'), ('s_w', 'w'), ('s_w', 'Y'), ('s_w', 'Ip'), ('s_w', 'Q'), ('s_w', 'eg'), ('s_w', 'em'), ('s_w', 'ez'), ('s', 'r'), ('s', 'w'), ('s', 'Y'), ('s', 'Ip'), ('s', 'Q'), ('s', 'eg'), ('s', 'em'), ('s', 'ez'), ('tau', 'r'), ('tau', 'w'), ('tau', 'Y'), ('tau', 'Ip'), ('tau', 'Q'), ('tau', 'eg'), ('tau', 'em'), ('tau', 'ez'), ('wN', 'r'), ('wN', 'w'), ('wN', 'Y'), ('wN', 'Ip'), ('wN', 'Q'), ('wN', 'eg'), ('wN', 'em'), ('wN', 'ez'), ('valuation_res', 'r'), ('valuation_res', 'w'), ('valuation_res', 'Y'), ('valuation_res', 'Ip'), ('valuation_res', 'Q'), ('valuation_res', 'eg'), ('valuation_res', 'em'), ('valuation_res', 'ez'), ('w_res', 'r'), ('w_res', 'w'), ('w_res', 'Y'), ('w_res', 'Ip'), ('w_res', 'Q'), ('w_res', 'eg'), ('w_res', 'em'), ('w_res', 'ez'), ('w', 'r'), ('w', 'w'), ('w', 'Y'), ('w', 'Ip'), ('w', 'Q'), ('w', 'eg'), ('w', 'em'), ('w', 'ez'), ('Y', 'r'), ('Y', 'w'), ('Y', 'Y'), ('Y', 'Ip'), ('Y', 'Q'), ('Y', 'eg'), ('Y', 'em'), ('Y', 'ez'), ('Z', 'r'), ('Z', 'w'), ('Z', 'Y'), ('Z', 'Ip'), ('Z', 'Q'), ('Z', 'eg'), ('Z', 'em'), ('Z', 'ez'), ('C_hh', 'r'), ('C_hh', 'w'), ('C_hh', 'Y'), ('C_hh', 'Ip'), ('C_hh', 'Q'), ('C_hh', 'eg'), ('C_hh', 'em'), ('C_hh', 'ez'), ('L_hh', 'r'), ('L_hh', 'w'), ('L_hh', 'Y'), ('L_hh', 'Ip'), ('L_hh', 'Q'), ('L_hh', 'eg'), ('L_hh', 'em'), ('L_hh', 'ez'), ('A_hh', 'r'), ('A_hh', 'w'), ('A_hh', 'Y'), ('A_hh', 'Ip'), ('A_hh', 'Q'), ('A_hh', 'eg'), ('A_hh', 'em'), ('A_hh', 'ez'), ('UCE_hh', 'r'), ('UCE_hh', 'w'), ('UCE_hh', 'Y'), ('UCE_hh', 'Ip'), ('UCE_hh', 'Q'), ('UCE_hh', 'eg'), ('UCE_hh', 'em'), ('UCE_hh', 'ez')])"
     },
     "execution_count": 62,
     "metadata": {},
     "output_type": "execute_result"
    }
   ],
   "source": [
    "model.jac.keys()"
   ],
   "metadata": {
    "collapsed": false
   }
  },
  {
   "cell_type": "code",
   "execution_count": null,
   "outputs": [],
   "source": [
    "def find_IRFs(self, shock_specs=None, reuse_G_U=False, do_print=False):\n",
    "    \"\"\" find linearized impulse responses \"\"\"\n",
    "\n",
    "    par = self.par\n",
    "    ss = self.ss\n",
    "    path = self.path\n",
    "\n",
    "    t0 = time.time()\n",
    "\n",
    "    # a. solution matrix\n",
    "    t0_ = time.time()\n",
    "    if not reuse_G_U: self.G_U[:, :] = -np.linalg.solve(self.H_U, self.H_Z)\n",
    "    t1_ = time.time()\n",
    "\n",
    "    # b. set path for shocks\n",
    "    self._set_shocks(shock_specs=shock_specs)\n",
    "\n",
    "    # c. IRFs\n",
    "\n",
    "    # shocks\n",
    "    dZ = np.zeros((len(self.shocks), par.T))\n",
    "    for i_shock, shockname in enumerate(self.shocks):\n",
    "        dZ[i_shock, :] = path.__dict__[shockname][0, :] - ss.__dict__[shockname]\n",
    "        self.IRF[shockname][:] = dZ[i_shock, :]\n",
    "\n",
    "        # unknowns\n",
    "    dU = self.G_U @ dZ.ravel()\n",
    "    dU = dU.reshape((len(self.unknowns), par.T))\n",
    "\n",
    "    for i_unknown, unknownname in enumerate(self.unknowns):\n",
    "        self.IRF[unknownname][:] = dU[i_unknown, :]\n",
    "\n",
    "    # remaing\n",
    "    for varname in self.varlist:\n",
    "\n",
    "        if varname in self.shocks + self.unknowns: continue\n",
    "\n",
    "        self.IRF[varname][:] = 0.0\n",
    "        for inputname in self.shocks + self.unknowns:\n",
    "            self.IRF[varname][:] += self.jac[(varname, inputname)] @ self.IRF[inputname]\n",
    "\n",
    "    if do_print: print(\n",
    "        f'linear transition path found in {elapsed(t0)} [finding solution matrix: {elapsed(t0_, t1_)}]')"
   ],
   "metadata": {
    "collapsed": false
   }
  },
  {
   "cell_type": "code",
   "execution_count": 20,
   "outputs": [
    {
     "name": "stdout",
     "output_type": "stream",
     "text": [
      "('Y', 'r'), only zeros: True\n",
      "('Y', 'w'), only zeros: True\n",
      "('Y', 'Y'), only zeros: False\n",
      "('Y', 'Ip'), only zeros: True\n",
      "('Y', 'Q'), only zeros: True\n",
      "('Y', 'eg'), only zeros: True\n",
      "('Y', 'em'), only zeros: True\n",
      "('Y', 'ez'), only zeros: True\n"
     ]
    }
   ],
   "source": [],
   "metadata": {
    "collapsed": false
   }
  },
  {
   "cell_type": "code",
   "execution_count": 11,
   "outputs": [
    {
     "data": {
      "text/plain": "dict_keys([('C_hh', 'tau'), ('C_hh', 'wN'), ('C_hh', 'ez'), ('C_hh', 'ra'), ('C_hh', 'rl'), ('L_hh', 'tau'), ('L_hh', 'wN'), ('L_hh', 'ez'), ('L_hh', 'ra'), ('L_hh', 'rl'), ('A_hh', 'tau'), ('A_hh', 'wN'), ('A_hh', 'ez'), ('A_hh', 'ra'), ('A_hh', 'rl'), ('UCE_hh', 'tau'), ('UCE_hh', 'wN'), ('UCE_hh', 'ez'), ('UCE_hh', 'ra'), ('UCE_hh', 'rl')])"
     },
     "execution_count": 11,
     "metadata": {},
     "output_type": "execute_result"
    }
   ],
   "source": [
    "unkownsmodel.jac_hh.keys()"
   ],
   "metadata": {
    "collapsed": false
   }
  },
  {
   "cell_type": "code",
   "execution_count": 15,
   "outputs": [
    {
     "data": {
      "text/plain": "(1250, 750)"
     },
     "execution_count": 15,
     "metadata": {},
     "output_type": "execute_result"
    }
   ],
   "source": [
    "model.H_Z.shape"
   ],
   "metadata": {
    "collapsed": false
   }
  },
  {
   "cell_type": "code",
   "execution_count": 16,
   "outputs": [
    {
     "data": {
      "text/plain": "['r', 'w', 'Y', 'Ip', 'Q']"
     },
     "execution_count": 16,
     "metadata": {},
     "output_type": "execute_result"
    }
   ],
   "source": [
    "model.unknowns"
   ],
   "metadata": {
    "collapsed": false
   }
  },
  {
   "cell_type": "code",
   "execution_count": null,
   "outputs": [],
   "source": [],
   "metadata": {
    "collapsed": false
   }
  }
 ],
 "metadata": {
  "kernelspec": {
   "display_name": "Python 3",
   "language": "python",
   "name": "python3"
  },
  "language_info": {
   "codemirror_mode": {
    "name": "ipython",
    "version": 2
   },
   "file_extension": ".py",
   "mimetype": "text/x-python",
   "name": "python",
   "nbconvert_exporter": "python",
   "pygments_lexer": "ipython2",
   "version": "2.7.6"
  }
 },
 "nbformat": 4,
 "nbformat_minor": 0
}
